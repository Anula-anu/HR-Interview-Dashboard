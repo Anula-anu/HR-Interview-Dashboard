{
 "cells": [
  {
   "cell_type": "code",
   "execution_count": 2,
   "id": "06b50e4f-7e3d-457f-bf74-bed826eda91e",
   "metadata": {},
   "outputs": [],
   "source": [
    "import pandas as pd\n",
    "\n",
    "applications = pd.read_csv('applications.csv')\n",
    "interviews = pd.read_csv('interviews.csv')\n",
    "feedback = pd.read_csv('feedback.csv')\n",
    "jobs = pd.read_csv('jobs.csv')\n",
    "job_required_skills = pd.read_csv('job_required_skills.csv')\n",
    "candidates = pd.read_csv('candidates.csv')\n",
    "skills = pd.read_csv('skills.csv')\n"
   ]
  },
  {
   "cell_type": "code",
   "execution_count": 3,
   "id": "84073f70-686d-4401-96e1-47c9225a71f1",
   "metadata": {},
   "outputs": [
    {
     "name": "stdout",
     "output_type": "stream",
     "text": [
      "Applications sample:\n",
      "  ApplicationID CandidateID JobID ApplicationDate       Status        Source  \\\n",
      "0         A1001       C0001  J049      2025-01-03  Interviewed    Job Portal   \n",
      "1         A1002       C0001  J018      2024-06-03      Offered    Job Portal   \n",
      "2         A1003       C0001  J012      2024-11-10      Offered      Referral   \n",
      "3         A1004       C0001  J046      2024-02-23  Interviewed  Careers Site   \n",
      "4         A1005       C0002  J048      2024-07-01     Rejected    Job Portal   \n",
      "\n",
      "   ResumeMatch  \n",
      "0           45  \n",
      "1           55  \n",
      "2           86  \n",
      "3           60  \n",
      "4           56  \n",
      "\n",
      "Interviews sample:\n",
      "  InterviewID ApplicationID      Round InterviewDate     Interviewer  \\\n",
      "0       I2001         A1001  Screening    2025-01-08  Interviewer_30   \n",
      "1       I2002         A1001  Technical    2025-01-12   Interviewer_4   \n",
      "2       I2003         A1001         HR    2025-01-17   Interviewer_3   \n",
      "3       I2004         A1002  Technical    2024-07-01  Interviewer_16   \n",
      "4       I2005         A1003  Technical    2024-11-23  Interviewer_21   \n",
      "\n",
      "   RatingCommunication  RatingProblemSolving  RatingCultureFit  OverallRating  \n",
      "0                    2                     4                 2            2.7  \n",
      "1                    2                     5                 2            3.0  \n",
      "2                    2                     2                 4            2.7  \n",
      "3                    4                     4                 3            3.7  \n",
      "4                    4                     5                 3            4.0  \n",
      "\n",
      "Feedback sample:\n",
      "  FeedbackID InterviewID                                       FeedbackText  \\\n",
      "0      F3001       I2001  Communication was weak; needs improvement. Not...   \n",
      "1      F3002       I2002  Good skills but needs more industry experience...   \n",
      "2      F3003       I2003  Average performance; showed potential with som...   \n",
      "3      F3004       I2004  Strong analytical skills and clear communicati...   \n",
      "4      F3005       I2005  Mixed answers; structure could improve. Noted ...   \n",
      "\n",
      "   SentimentScore  \n",
      "0           0.348  \n",
      "1           0.534  \n",
      "2           0.519  \n",
      "3           0.778  \n",
      "4           0.726  \n",
      "\n",
      "Jobs sample:\n",
      "  JobID                         Title   Department   Location  MinExperience  \\\n",
      "0  J001     People Operations Manager           HR     Bhopal              3   \n",
      "1  J002  Application Support Engineer      General  Hyderabad              2   \n",
      "2  J003     People Operations Manager           HR       Pune              3   \n",
      "3  J004                    BI Manager    Analytics    Lucknow              4   \n",
      "4  J005                  NLP Engineer  Engineering  Ahmedabad              1   \n",
      "\n",
      "                                      SkillsRequired  \n",
      "0  Git, Communication, NLP, Data Visualization, F...  \n",
      "1  Statistics, Linux, Stakeholder Management, DAX...  \n",
      "2         Cloud (Azure/AWS), Data Visualization, Git  \n",
      "3  Docker, Computer Vision, Machine Learning, Git...  \n",
      "4       Communication, Statistics, Cloud (Azure/AWS)  \n",
      "\n",
      "Job Required Skills sample:\n",
      "  JobID               Skill\n",
      "0  J001                 Git\n",
      "1  J001       Communication\n",
      "2  J001                 NLP\n",
      "3  J001  Data Visualization\n",
      "4  J001               Flask\n",
      "\n",
      "Candidates sample:\n",
      "  CandidateID           Name Gender Education  ExperienceYears Location\n",
      "0       C0001  Krishna Reddy   Male       BCA                0  Gurgaon\n",
      "1       C0002    Sanya Verma   Male       PhD                6   Jaipur\n",
      "2       C0003   Deepak Verma   Male    M.Tech                4   Nagpur\n",
      "3       C0004   Deepak Mehta   Male       BCA                0    Delhi\n",
      "4       C0005     Rekha Bose   Male    M.Tech                2    Kochi\n",
      "\n",
      "Skills sample:\n",
      "  CandidateID               Skill         Level\n",
      "0       C0001                 Git      Beginner\n",
      "1       C0001          JavaScript      Advanced\n",
      "2       C0001       Communication      Beginner\n",
      "3       C0001                 NLP  Intermediate\n",
      "4       C0001  Data Visualization      Beginner\n"
     ]
    }
   ],
   "source": [
    "print(\"Applications sample:\")\n",
    "print(applications.head())\n",
    "\n",
    "print(\"\\nInterviews sample:\")\n",
    "print(interviews.head())\n",
    "\n",
    "print(\"\\nFeedback sample:\")\n",
    "print(feedback.head())\n",
    "\n",
    "print(\"\\nJobs sample:\")\n",
    "print(jobs.head())\n",
    "\n",
    "print(\"\\nJob Required Skills sample:\")\n",
    "print(job_required_skills.head())\n",
    "\n",
    "print(\"\\nCandidates sample:\")\n",
    "print(candidates.head())\n",
    "\n",
    "print(\"\\nSkills sample:\")\n",
    "print(skills.head())\n"
   ]
  },
  {
   "cell_type": "code",
   "execution_count": 4,
   "id": "03e62b95-4fdf-410f-8c1f-9d6a099e0356",
   "metadata": {},
   "outputs": [],
   "source": [
    "applications = pd.read_csv('applications.csv')\n"
   ]
  },
  {
   "cell_type": "code",
   "execution_count": 5,
   "id": "3f913b2b-1c23-4f6a-8e0a-4432e95ef61d",
   "metadata": {},
   "outputs": [],
   "source": [
    "# Aggregate interviews\n",
    "intv_agg = interviews.groupby('ApplicationID').agg({\n",
    "    'RatingCommunication': 'mean',\n",
    "    'RatingProblemSolving': 'mean',\n",
    "    'RatingCultureFit': 'mean',\n",
    "    'OverallRating': 'mean',\n",
    "    'InterviewID': 'count'\n",
    "}).reset_index().rename(columns={'InterviewID': 'NumInterviews'})\n",
    "\n",
    "# Aggregate feedback sentiment\n",
    "fb_intv = pd.merge(feedback, interviews[['InterviewID', 'ApplicationID']], on='InterviewID')\n",
    "fb_agg = fb_intv.groupby('ApplicationID').agg({\n",
    "    'SentimentScore': 'mean',\n",
    "    'FeedbackID': 'count'\n",
    "}).reset_index().rename(columns={'SentimentScore': 'AvgSentiment', 'FeedbackID': 'NumFeedbacks'})\n",
    "\n",
    "# Merge into applications DataFrame\n",
    "merged = applications.merge(intv_agg, on='ApplicationID', how='left').merge(fb_agg, on='ApplicationID', how='left')\n",
    "\n",
    "# Add job info columns from jobs DataFrame\n",
    "merged = merged.merge(jobs[['JobID', 'Department', 'MinExperience']], on='JobID', how='left')\n"
   ]
  },
  {
   "cell_type": "code",
   "execution_count": 6,
   "id": "d3d59361-2fad-4723-a1c9-f9aacba6965d",
   "metadata": {
    "scrolled": true
   },
   "outputs": [
    {
     "name": "stdout",
     "output_type": "stream",
     "text": [
      "['ApplicationID', 'CandidateID', 'JobID', 'ApplicationDate', 'Status', 'Source', 'ResumeMatch', 'RatingCommunication', 'RatingProblemSolving', 'RatingCultureFit', 'OverallRating', 'NumInterviews', 'AvgSentiment', 'NumFeedbacks', 'Department', 'MinExperience']\n"
     ]
    }
   ],
   "source": [
    "print(merged.columns.tolist())\n"
   ]
  },
  {
   "cell_type": "code",
   "execution_count": 7,
   "id": "e72909f3-a0e1-40dc-95aa-41c3e9665342",
   "metadata": {},
   "outputs": [],
   "source": [
    "for col in ['RatingCommunication', 'RatingProblemSolving', 'RatingCultureFit', 'OverallRating', 'AvgSentiment']:\n",
    "    merged[col] = merged[col].fillna(merged[col].mean())\n"
   ]
  },
  {
   "cell_type": "code",
   "execution_count": 8,
   "id": "a5a2e55b-e3a7-4ff0-a579-e59211192922",
   "metadata": {},
   "outputs": [],
   "source": [
    "merged['TargetHired'] = merged['Status'].apply(lambda x: 1 if x in ['Hired', 'Offered'] else 0)\n"
   ]
  },
  {
   "cell_type": "code",
   "execution_count": 9,
   "id": "db998970-7e94-44ee-83c8-21ee8f07f5f8",
   "metadata": {},
   "outputs": [],
   "source": [
    "for col in ['RatingCommunication', 'RatingProblemSolving', 'RatingCultureFit', 'OverallRating', 'AvgSentiment']:\n",
    "    merged[col] = merged[col].fillna(merged[col].mean())\n"
   ]
  },
  {
   "cell_type": "code",
   "execution_count": 10,
   "id": "2f0de045-45eb-4c56-ac8a-25d861527114",
   "metadata": {},
   "outputs": [],
   "source": [
    "merged = pd.get_dummies(merged, columns=['Department'], drop_first=True)\n"
   ]
  },
  {
   "cell_type": "code",
   "execution_count": 11,
   "id": "25d692ad-9ce9-4598-9d99-70ca9652ce65",
   "metadata": {},
   "outputs": [],
   "source": [
    "feature_cols = ['RatingCommunication', 'RatingProblemSolving', 'RatingCultureFit', 'OverallRating', 'AvgSentiment', 'ResumeMatch', 'MinExperience'] + \\\n",
    "               [col for col in merged.columns if col.startswith('Department_')]\n",
    "\n",
    "X = merged[feature_cols]\n",
    "y = merged['TargetHired']\n"
   ]
  },
  {
   "cell_type": "code",
   "execution_count": 12,
   "id": "eecd74c9-5763-4883-b2a4-928e5663bdd8",
   "metadata": {},
   "outputs": [],
   "source": [
    "from sklearn.model_selection import train_test_split\n",
    "\n",
    "X_train, X_test, y_train, y_test = train_test_split(X, y, test_size=0.2, random_state=42)\n"
   ]
  },
  {
   "cell_type": "code",
   "execution_count": 13,
   "id": "d2bf6598-46f1-4c36-871e-dbee28725cde",
   "metadata": {},
   "outputs": [
    {
     "name": "stdout",
     "output_type": "stream",
     "text": [
      "Accuracy: 0.91792656587473\n",
      "\n",
      "Classification Report:\n",
      "               precision    recall  f1-score   support\n",
      "\n",
      "           0       0.92      1.00      0.96       425\n",
      "           1       0.00      0.00      0.00        38\n",
      "\n",
      "    accuracy                           0.92       463\n",
      "   macro avg       0.46      0.50      0.48       463\n",
      "weighted avg       0.84      0.92      0.88       463\n",
      "\n",
      "\n",
      "Confusion Matrix:\n",
      " [[425   0]\n",
      " [ 38   0]]\n"
     ]
    },
    {
     "name": "stderr",
     "output_type": "stream",
     "text": [
      "C:\\ProgramData\\anaconda3\\Lib\\site-packages\\sklearn\\metrics\\_classification.py:1565: UndefinedMetricWarning: Precision is ill-defined and being set to 0.0 in labels with no predicted samples. Use `zero_division` parameter to control this behavior.\n",
      "  _warn_prf(average, modifier, f\"{metric.capitalize()} is\", len(result))\n",
      "C:\\ProgramData\\anaconda3\\Lib\\site-packages\\sklearn\\metrics\\_classification.py:1565: UndefinedMetricWarning: Precision is ill-defined and being set to 0.0 in labels with no predicted samples. Use `zero_division` parameter to control this behavior.\n",
      "  _warn_prf(average, modifier, f\"{metric.capitalize()} is\", len(result))\n",
      "C:\\ProgramData\\anaconda3\\Lib\\site-packages\\sklearn\\metrics\\_classification.py:1565: UndefinedMetricWarning: Precision is ill-defined and being set to 0.0 in labels with no predicted samples. Use `zero_division` parameter to control this behavior.\n",
      "  _warn_prf(average, modifier, f\"{metric.capitalize()} is\", len(result))\n"
     ]
    }
   ],
   "source": [
    "from sklearn.linear_model import LogisticRegression\n",
    "from sklearn.metrics import accuracy_score, classification_report, confusion_matrix\n",
    "\n",
    "# Initialize model\n",
    "model = LogisticRegression(max_iter=1000)\n",
    "\n",
    "# Train model\n",
    "model.fit(X_train, y_train)\n",
    "\n",
    "# Predict on test set\n",
    "y_pred = model.predict(X_test)\n",
    "\n",
    "# Evaluate results\n",
    "print(\"Accuracy:\", accuracy_score(y_test, y_pred))\n",
    "print(\"\\nClassification Report:\\n\", classification_report(y_test, y_pred))\n",
    "print(\"\\nConfusion Matrix:\\n\", confusion_matrix(y_test, y_pred))\n"
   ]
  },
  {
   "cell_type": "code",
   "execution_count": 14,
   "id": "4527085a-3f84-4ea1-820b-12d6745dc0c6",
   "metadata": {},
   "outputs": [
    {
     "data": {
      "text/plain": [
       "['hiring_prediction_model.pkl']"
      ]
     },
     "execution_count": 14,
     "metadata": {},
     "output_type": "execute_result"
    }
   ],
   "source": [
    "import joblib\n",
    "\n",
    "joblib.dump(model, 'hiring_prediction_model.pkl')\n"
   ]
  },
  {
   "cell_type": "code",
   "execution_count": 15,
   "id": "ad8ae60e-6489-4506-bfd8-a08866bbc76a",
   "metadata": {},
   "outputs": [],
   "source": [
    "# Predict probabilities of hire for all data\n",
    "merged['HireProbability'] = model.predict_proba(X)[:, 1]\n",
    "\n",
    "# Predict hire class (0 or 1)\n",
    "merged['HirePrediction'] = model.predict(X)\n"
   ]
  },
  {
   "cell_type": "code",
   "execution_count": 16,
   "id": "064c2a09-7437-4391-9424-bdb49741a731",
   "metadata": {},
   "outputs": [],
   "source": [
    "merged.to_csv('applications_with_predictions.csv', index=False)\n"
   ]
  },
  {
   "cell_type": "code",
   "execution_count": 17,
   "id": "fa44ada9-6e69-4393-a028-8e22535a6ab5",
   "metadata": {},
   "outputs": [
    {
     "name": "stdout",
     "output_type": "stream",
     "text": [
      "  ApplicationID CandidateID JobID ApplicationDate       Status        Source  \\\n",
      "0         A1001       C0001  J049      2025-01-03  Interviewed    Job Portal   \n",
      "1         A1002       C0001  J018      2024-06-03      Offered    Job Portal   \n",
      "2         A1003       C0001  J012      2024-11-10      Offered      Referral   \n",
      "3         A1004       C0001  J046      2024-02-23  Interviewed  Careers Site   \n",
      "4         A1005       C0002  J048      2024-07-01     Rejected    Job Portal   \n",
      "\n",
      "   ResumeMatch  RatingCommunication  RatingProblemSolving  RatingCultureFit  \\\n",
      "0           45                2.000              3.666667          2.666667   \n",
      "1           55                4.000              4.000000          3.000000   \n",
      "2           86                4.500              4.000000          4.000000   \n",
      "3           60                2.000              3.500000          2.500000   \n",
      "4           56                3.123              3.349794          2.964335   \n",
      "\n",
      "   ...  Department_General  Department_HR  Department_IT  Department_PMO  \\\n",
      "0  ...               False           True          False           False   \n",
      "1  ...               False          False          False           False   \n",
      "2  ...               False          False          False           False   \n",
      "3  ...               False          False          False           False   \n",
      "4  ...               False          False          False           False   \n",
      "\n",
      "   Department_Product  Department_R&D  Department_SalesOps  \\\n",
      "0               False           False                False   \n",
      "1               False           False                 True   \n",
      "2               False           False                False   \n",
      "3               False           False                False   \n",
      "4               False           False                False   \n",
      "\n",
      "   Department_Security  HireProbability  HirePrediction  \n",
      "0                False         0.049390               0  \n",
      "1                False         0.056978               0  \n",
      "2                False         0.048561               0  \n",
      "3                False         0.071512               0  \n",
      "4                False         0.074251               0  \n",
      "\n",
      "[5 rows x 29 columns]\n"
     ]
    }
   ],
   "source": [
    "print(merged.head())\n"
   ]
  },
  {
   "cell_type": "code",
   "execution_count": 18,
   "id": "c9da81d7-aaed-4785-86e7-9b6cc50dc2c6",
   "metadata": {},
   "outputs": [],
   "source": [
    "# Export CSV WITHOUT index, in standard UTF-8, and commas as separator\n",
    "merged.to_csv('applications_with_predictions.csv', index=False, encoding='utf-8')\n"
   ]
  },
  {
   "cell_type": "code",
   "execution_count": 19,
   "id": "1baffc2f-bdee-4a0c-ba12-3bdc66ab928f",
   "metadata": {},
   "outputs": [],
   "source": [
    "merged['TargetHired'] = merged['Status'].apply(lambda x: 1 if x in ['Hired', 'Offered'] else 0)\n"
   ]
  },
  {
   "cell_type": "code",
   "execution_count": 20,
   "id": "e1cbf431-1b68-46c6-8461-d5e1eeab46bd",
   "metadata": {},
   "outputs": [],
   "source": [
    "for col in ['RatingCommunication', 'RatingProblemSolving', 'RatingCultureFit', 'OverallRating', 'AvgSentiment']:\n",
    "    merged[col] = merged[col].fillna(merged[col].mean())\n"
   ]
  },
  {
   "cell_type": "code",
   "execution_count": 21,
   "id": "22b978af-8696-4a1b-9ebd-1b9aa76e483e",
   "metadata": {},
   "outputs": [
    {
     "name": "stdout",
     "output_type": "stream",
     "text": [
      "['ApplicationID', 'CandidateID', 'JobID', 'ApplicationDate', 'Status', 'Source', 'ResumeMatch', 'RatingCommunication', 'RatingProblemSolving', 'RatingCultureFit', 'OverallRating', 'NumInterviews', 'AvgSentiment', 'NumFeedbacks', 'MinExperience', 'TargetHired', 'Department_Clinical', 'Department_Design', 'Department_Engineering', 'Department_General', 'Department_HR', 'Department_IT', 'Department_PMO', 'Department_Product', 'Department_R&D', 'Department_SalesOps', 'Department_Security', 'HireProbability', 'HirePrediction']\n"
     ]
    }
   ],
   "source": [
    "print(merged.columns.tolist())\n"
   ]
  },
  {
   "cell_type": "code",
   "execution_count": 22,
   "id": "1de513af-2f76-4a79-9fd0-2f99c9d42fbf",
   "metadata": {},
   "outputs": [],
   "source": [
    "feature_cols = [\n",
    "    'RatingCommunication',\n",
    "    'RatingProblemSolving',\n",
    "    'RatingCultureFit',\n",
    "    'OverallRating',\n",
    "    'AvgSentiment',\n",
    "    'ResumeMatch',\n",
    "    'MinExperience'\n",
    "] + [col for col in merged.columns if col.startswith('Department_')]\n",
    "\n",
    "X = merged[feature_cols]\n",
    "y = merged['TargetHired']\n"
   ]
  },
  {
   "cell_type": "code",
   "execution_count": 23,
   "id": "9030f28c-b793-462a-b8fd-ab310c980e02",
   "metadata": {},
   "outputs": [],
   "source": [
    "from sklearn.model_selection import train_test_split\n",
    "\n",
    "X_train, X_test, y_train, y_test = train_test_split(X, y, test_size=0.2, random_state=42)\n"
   ]
  },
  {
   "cell_type": "code",
   "execution_count": 24,
   "id": "249d2391-1213-444d-b93e-30e08c5b9b55",
   "metadata": {},
   "outputs": [
    {
     "name": "stdout",
     "output_type": "stream",
     "text": [
      "Accuracy: 0.91792656587473\n",
      "\n",
      "Classification Report:\n",
      "               precision    recall  f1-score   support\n",
      "\n",
      "           0       0.92      1.00      0.96       425\n",
      "           1       0.00      0.00      0.00        38\n",
      "\n",
      "    accuracy                           0.92       463\n",
      "   macro avg       0.46      0.50      0.48       463\n",
      "weighted avg       0.84      0.92      0.88       463\n",
      "\n",
      "\n",
      "Confusion Matrix:\n",
      " [[425   0]\n",
      " [ 38   0]]\n"
     ]
    },
    {
     "name": "stderr",
     "output_type": "stream",
     "text": [
      "C:\\ProgramData\\anaconda3\\Lib\\site-packages\\sklearn\\metrics\\_classification.py:1565: UndefinedMetricWarning: Precision is ill-defined and being set to 0.0 in labels with no predicted samples. Use `zero_division` parameter to control this behavior.\n",
      "  _warn_prf(average, modifier, f\"{metric.capitalize()} is\", len(result))\n",
      "C:\\ProgramData\\anaconda3\\Lib\\site-packages\\sklearn\\metrics\\_classification.py:1565: UndefinedMetricWarning: Precision is ill-defined and being set to 0.0 in labels with no predicted samples. Use `zero_division` parameter to control this behavior.\n",
      "  _warn_prf(average, modifier, f\"{metric.capitalize()} is\", len(result))\n",
      "C:\\ProgramData\\anaconda3\\Lib\\site-packages\\sklearn\\metrics\\_classification.py:1565: UndefinedMetricWarning: Precision is ill-defined and being set to 0.0 in labels with no predicted samples. Use `zero_division` parameter to control this behavior.\n",
      "  _warn_prf(average, modifier, f\"{metric.capitalize()} is\", len(result))\n"
     ]
    }
   ],
   "source": [
    "from sklearn.linear_model import LogisticRegression\n",
    "from sklearn.metrics import accuracy_score, classification_report, confusion_matrix\n",
    "\n",
    "# Initialize the model\n",
    "model = LogisticRegression(max_iter=1000)\n",
    "\n",
    "# Train the model\n",
    "model.fit(X_train, y_train)\n",
    "\n",
    "# Predict on the test set\n",
    "y_pred = model.predict(X_test)\n",
    "\n",
    "# Evaluate the model performance\n",
    "print(\"Accuracy:\", accuracy_score(y_test, y_pred))\n",
    "print(\"\\nClassification Report:\\n\", classification_report(y_test, y_pred))\n",
    "print(\"\\nConfusion Matrix:\\n\", confusion_matrix(y_test, y_pred))\n"
   ]
  },
  {
   "cell_type": "code",
   "execution_count": 30,
   "id": "6ea6c1a3-b748-439b-b6ba-b536074edc84",
   "metadata": {},
   "outputs": [],
   "source": [
    "# Predict hire probability and class for all data points\n",
    "merged['HireProbability'] = model.predict_proba(X)[:, 1]\n",
    "merged['HirePrediction'] = model.predict(X)\n"
   ]
  },
  {
   "cell_type": "code",
   "execution_count": 33,
   "id": "dd7e75d0-dc04-424e-beda-66fe2545f61b",
   "metadata": {},
   "outputs": [
    {
     "name": "stdout",
     "output_type": "stream",
     "text": [
      "C:\\Users\\anula biju\\Project\n"
     ]
    }
   ],
   "source": [
    "import os\n",
    "print(os.getcwd())\n"
   ]
  },
  {
   "cell_type": "code",
   "execution_count": 36,
   "id": "87982707-f9c0-408e-87b3-5fb0f689a2d1",
   "metadata": {},
   "outputs": [],
   "source": [
    "merged.to_csv(r'C:\\Users\\anula biju\\Downloads\\HR-Interview-Dashboard\\data\\applications_with_predictions.csv', index=False, encoding='utf-8')\n"
   ]
  },
  {
   "cell_type": "code",
   "execution_count": 32,
   "id": "0ce873c3-b0e2-4869-95e2-beefcda03b5f",
   "metadata": {},
   "outputs": [],
   "source": [
    "merged.to_csv('applications_with_predictions.csv', index=False, encoding='utf-8')\n"
   ]
  },
  {
   "cell_type": "code",
   "execution_count": 25,
   "id": "d680bbc7-9930-4fbd-9aff-3dfd1738d3e3",
   "metadata": {},
   "outputs": [],
   "source": [
    "merged.to_csv('applications_with_predictions.csv', index=False, encoding='utf-8')\n"
   ]
  },
  {
   "cell_type": "code",
   "execution_count": 26,
   "id": "00644720-bf4e-4715-a613-ffe2b362577f",
   "metadata": {},
   "outputs": [],
   "source": [
    "merged.to_csv(r'C:\\Users\\anula biju\\Downloads\\HR-Interview-Dashboard\\data\\applications_with_predictions.csv', index=False, encoding='utf-8')\n"
   ]
  },
  {
   "cell_type": "code",
   "execution_count": 27,
   "id": "2b6d7e24-9f80-4d66-b2ad-3fa90d7ee834",
   "metadata": {},
   "outputs": [
    {
     "name": "stdout",
     "output_type": "stream",
     "text": [
      "TargetHired\n",
      "0    2159\n",
      "1     154\n",
      "Name: count, dtype: int64\n"
     ]
    }
   ],
   "source": [
    "print(merged['TargetHired'].value_counts())\n"
   ]
  },
  {
   "cell_type": "code",
   "execution_count": 28,
   "id": "09d6f31d-7dde-4909-8c1d-103991ceac05",
   "metadata": {},
   "outputs": [
    {
     "name": "stderr",
     "output_type": "stream",
     "text": [
      "C:\\ProgramData\\anaconda3\\Lib\\site-packages\\joblib\\externals\\loky\\backend\\context.py:136: UserWarning: Could not find the number of physical cores for the following reason:\n",
      "[WinError 2] The system cannot find the file specified\n",
      "Returning the number of logical cores instead. You can silence this warning by setting LOKY_MAX_CPU_COUNT to the number of cores you want to use.\n",
      "  warnings.warn(\n",
      "  File \"C:\\ProgramData\\anaconda3\\Lib\\site-packages\\joblib\\externals\\loky\\backend\\context.py\", line 257, in _count_physical_cores\n",
      "    cpu_info = subprocess.run(\n",
      "        \"wmic CPU Get NumberOfCores /Format:csv\".split(),\n",
      "        capture_output=True,\n",
      "        text=True,\n",
      "    )\n",
      "  File \"C:\\ProgramData\\anaconda3\\Lib\\subprocess.py\", line 554, in run\n",
      "    with Popen(*popenargs, **kwargs) as process:\n",
      "         ~~~~~^^^^^^^^^^^^^^^^^^^^^^\n",
      "  File \"C:\\ProgramData\\anaconda3\\Lib\\subprocess.py\", line 1039, in __init__\n",
      "    self._execute_child(args, executable, preexec_fn, close_fds,\n",
      "    ~~~~~~~~~~~~~~~~~~~^^^^^^^^^^^^^^^^^^^^^^^^^^^^^^^^^^^^^^^^^\n",
      "                        pass_fds, cwd, env,\n",
      "                        ^^^^^^^^^^^^^^^^^^^\n",
      "    ...<5 lines>...\n",
      "                        gid, gids, uid, umask,\n",
      "                        ^^^^^^^^^^^^^^^^^^^^^^\n",
      "                        start_new_session, process_group)\n",
      "                        ^^^^^^^^^^^^^^^^^^^^^^^^^^^^^^^^^\n",
      "  File \"C:\\ProgramData\\anaconda3\\Lib\\subprocess.py\", line 1554, in _execute_child\n",
      "    hp, ht, pid, tid = _winapi.CreateProcess(executable, args,\n",
      "                       ~~~~~~~~~~~~~~~~~~~~~^^^^^^^^^^^^^^^^^^\n",
      "                             # no special security\n",
      "                             ^^^^^^^^^^^^^^^^^^^^^\n",
      "    ...<4 lines>...\n",
      "                             cwd,\n",
      "                             ^^^^\n",
      "                             startupinfo)\n",
      "                             ^^^^^^^^^^^^\n"
     ]
    },
    {
     "name": "stdout",
     "output_type": "stream",
     "text": [
      "TargetHired\n",
      "0    1734\n",
      "1    1734\n",
      "Name: count, dtype: int64\n"
     ]
    }
   ],
   "source": [
    "from imblearn.over_sampling import SMOTE\n",
    "from sklearn.linear_model import LogisticRegression\n",
    "from sklearn.model_selection import train_test_split\n",
    "\n",
    "# Assuming you have your features X and target y as follows:\n",
    "# X = merged[feature_cols]\n",
    "# y = merged['TargetHired']\n",
    "\n",
    "# Split data into training and test sets\n",
    "X_train, X_test, y_train, y_test = train_test_split(X, y, test_size=0.2, random_state=42)\n",
    "\n",
    "# Initialize SMOTE\n",
    "smote = SMOTE(random_state=42)\n",
    "\n",
    "# Apply SMOTE to training data only\n",
    "X_train_res, y_train_res = smote.fit_resample(X_train, y_train)\n",
    "\n",
    "# Check new class balance\n",
    "print(y_train_res.value_counts())\n",
    "\n",
    "# Train your model on balanced data\n",
    "model = LogisticRegression(max_iter=1000)\n",
    "model.fit(X_train_res, y_train_res)\n",
    "\n",
    "# Predict and evaluate as usual\n",
    "y_pred = model.predict(X_test)\n"
   ]
  },
  {
   "cell_type": "code",
   "execution_count": 29,
   "id": "af70f1a3-19e2-4b2f-8f32-b6451d1b9378",
   "metadata": {},
   "outputs": [
    {
     "name": "stdout",
     "output_type": "stream",
     "text": [
      "Accuracy: 0.6889848812095032\n",
      "              precision    recall  f1-score   support\n",
      "\n",
      "           0       0.93      0.72      0.81       425\n",
      "           1       0.10      0.37      0.16        38\n",
      "\n",
      "    accuracy                           0.69       463\n",
      "   macro avg       0.52      0.54      0.49       463\n",
      "weighted avg       0.86      0.69      0.76       463\n",
      "\n",
      "[[305 120]\n",
      " [ 24  14]]\n"
     ]
    }
   ],
   "source": [
    "from sklearn.metrics import accuracy_score, classification_report, confusion_matrix\n",
    "\n",
    "print(\"Accuracy:\", accuracy_score(y_test, y_pred))\n",
    "print(classification_report(y_test, y_pred))\n",
    "print(confusion_matrix(y_test, y_pred))\n"
   ]
  },
  {
   "cell_type": "code",
   "execution_count": 30,
   "id": "b72db7a4-c843-428f-8d12-a8ab515658fe",
   "metadata": {},
   "outputs": [],
   "source": [
    "merged['HireProbability'] = model.predict_proba(X)[:, 1]\n",
    "merged['HirePrediction'] = model.predict(X)\n"
   ]
  },
  {
   "cell_type": "code",
   "execution_count": 46,
   "id": "02018928-d321-4b93-ac61-a4d2cf2461a1",
   "metadata": {},
   "outputs": [],
   "source": [
    "merged.to_csv('applications_with_predictions_smote.csv', index=False, encoding='utf-8')\n"
   ]
  },
  {
   "cell_type": "code",
   "execution_count": 31,
   "id": "cc415191-37ee-4cb5-8cf6-49c0f8863dc0",
   "metadata": {},
   "outputs": [],
   "source": [
    "# Export updated predictions CSV to specific folder path\n",
    "merged.to_csv(r'C:\\Users\\anula biju\\Downloads\\HR-Interview-Dashboard\\data\\applications_with_predictions_smote.csv', index=False, encoding='utf-8')\n"
   ]
  },
  {
   "cell_type": "code",
   "execution_count": 33,
   "id": "8678698e-2c6b-44e1-baf7-49ef8ac19e13",
   "metadata": {},
   "outputs": [],
   "source": [
    "y_true = merged['TargetHired']  # Actual hiring labels\n",
    "y_pred = merged['HirePrediction']  # Your model's predicted labels\n"
   ]
  },
  {
   "cell_type": "code",
   "execution_count": 34,
   "id": "0a7dbfd5-9a41-45ce-bd89-7866112b355a",
   "metadata": {},
   "outputs": [
    {
     "name": "stdout",
     "output_type": "stream",
     "text": [
      "              precision    recall  f1-score   support\n",
      "\n",
      "           0       0.94      0.71      0.81      2159\n",
      "           1       0.08      0.38      0.14       154\n",
      "\n",
      "    accuracy                           0.69      2313\n",
      "   macro avg       0.51      0.54      0.47      2313\n",
      "weighted avg       0.88      0.69      0.76      2313\n",
      "\n",
      "Confusion Matrix:\n",
      " [[1527  632]\n",
      " [  96   58]]\n",
      "Accuracy: 68.53%\n"
     ]
    }
   ],
   "source": [
    "from sklearn.metrics import classification_report, confusion_matrix, accuracy_score\n",
    "\n",
    "# Print full classification metrics\n",
    "print(classification_report(y_true, y_pred))\n",
    "\n",
    "# Print confusion matrix\n",
    "cm = confusion_matrix(y_true, y_pred)\n",
    "print(\"Confusion Matrix:\\n\", cm)\n",
    "\n",
    "# Optional: Print overall accuracy\n",
    "acc = accuracy_score(y_true, y_pred)\n",
    "print(\"Accuracy: {:.2f}%\".format(acc * 100))\n"
   ]
  },
  {
   "cell_type": "code",
   "execution_count": 35,
   "id": "3a0dee3a-82dd-4455-88d6-00fa027d346e",
   "metadata": {},
   "outputs": [
    {
     "data": {
      "image/png": "[encoded data removed]",
      "text/plain": [
       "<Figure size 640x480 with 2 Axes>"
      ]
     },
     "metadata": {},
     "output_type": "display_data"
    }
   ],
   "source": [
    "import matplotlib.pyplot as plt\n",
    "import seaborn as sns\n",
    "\n",
    "sns.heatmap(cm, annot=True, fmt='d', cmap='Blues')\n",
    "plt.xlabel('Predicted')\n",
    "plt.ylabel('Actual')\n",
    "plt.title('Confusion Matrix')\n",
    "plt.show()\n"
   ]
  },
  {
   "cell_type": "code",
   "execution_count": 37,
   "id": "455122f5-72bc-45d6-86ba-2877256b6930",
   "metadata": {},
   "outputs": [
    {
     "name": "stdout",
     "output_type": "stream",
     "text": [
      "              precision    recall  f1-score      support\n",
      "0              0.940850  0.707272  0.807509  2159.000000\n",
      "1              0.084058  0.376623  0.137441   154.000000\n",
      "accuracy       0.685257  0.685257  0.685257     0.685257\n",
      "macro avg      0.512454  0.541948  0.472475  2313.000000\n",
      "weighted avg   0.883805  0.685257  0.762896  2313.000000\n"
     ]
    }
   ],
   "source": [
    "import pandas as pd\n",
    "from sklearn.metrics import classification_report\n",
    "\n",
    "# Get classification report as a dictionary\n",
    "report_dict = classification_report(y_true, y_pred, output_dict=True)\n",
    "\n",
    "# Convert to DataFrame for easy export\n",
    "report_df = pd.DataFrame(report_dict).transpose()\n",
    "\n",
    "print(report_df)\n"
   ]
  },
  {
   "cell_type": "code",
   "execution_count": 38,
   "id": "3b857c99-c84c-4336-b9d1-694d6ae3de24",
   "metadata": {},
   "outputs": [
    {
     "name": "stdout",
     "output_type": "stream",
     "text": [
      "          Predicted 0  Predicted 1\n",
      "Actual 0         1527          632\n",
      "Actual 1           96           58\n"
     ]
    }
   ],
   "source": [
    "from sklearn.metrics import confusion_matrix\n",
    "\n",
    "cm = confusion_matrix(y_true, y_pred)\n",
    "cm_df = pd.DataFrame(cm, index=['Actual 0', 'Actual 1'], columns=['Predicted 0', 'Predicted 1'])\n",
    "\n",
    "print(cm_df)\n"
   ]
  },
  {
   "cell_type": "code",
   "execution_count": 39,
   "id": "78276dba-3675-490d-a0e5-2a3350abfcaf",
   "metadata": {},
   "outputs": [],
   "source": [
    "report_df.to_csv('classification_report.csv', index=True)\n",
    "cm_df.to_csv('confusion_matrix.csv', index=True)\n"
   ]
  },
  {
   "cell_type": "code",
   "execution_count": 40,
   "id": "bf6be337-1929-4bbd-9c56-13ad64234022",
   "metadata": {},
   "outputs": [],
   "source": [
    "# Save confusion matrix CSV\n",
    "cm_df.to_csv(r'C:\\Users\\anula biju\\Downloads\\HR-Interview-Dashboard\\data\\confusion_matrix.csv', index=True, encoding='utf-8')\n",
    "\n",
    "# Save classification report CSV\n",
    "report_df.to_csv(r'C:\\Users\\anula biju\\Downloads\\HR-Interview-Dashboard\\data\\classification_report.csv', index=True, encoding='utf-8')\n"
   ]
  },
  {
   "cell_type": "code",
   "execution_count": null,
   "id": "32f6b653-0833-494e-984b-0660fbf60e97",
   "metadata": {},
   "outputs": [],
   "source": []
  }
 ],
 "metadata": {
  "kernelspec": {
   "display_name": "Python [conda env:base] *",
   "language": "python",
   "name": "conda-base-py"
  },
  "language_info": {
   "codemirror_mode": {
    "name": "ipython",
    "version": 3
   },
   "file_extension": ".py",
   "mimetype": "text/x-python",
   "name": "python",
   "nbconvert_exporter": "python",
   "pygments_lexer": "ipython3",
   "version": "3.13.5"
  }
 },
 "nbformat": 4,
 "nbformat_minor": 5
}
